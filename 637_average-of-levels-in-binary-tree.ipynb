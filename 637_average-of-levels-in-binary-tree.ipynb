{
 "cells": [
  {
   "cell_type": "code",
   "execution_count": 19,
   "id": "e699d300-8bc7-4d46-8065-a1fcf7d6ff9f",
   "metadata": {},
   "outputs": [],
   "source": [
    "from typing import List,Optional\n",
    "from collections import deque\n",
    "class TreeNode:\n",
    "    def __init__(self, val=0, left=None, right=None):\n",
    "        self.val = val\n",
    "        self.left = left\n",
    "        self.right = right\n",
    "class Solution:\n",
    "    def rightSideView(self, root: Optional[TreeNode]) -> List[int]:\n",
    "        res=[]\n",
    "        if root is None:\n",
    "            return res\n",
    "        queue=deque([root])\n",
    "        while queue:\n",
    "            size=len(queue)\n",
    "            while size:\n",
    "                node=queue.popleft()\n",
    "                if node.left:\n",
    "                    queue.append(node.left)\n",
    "                if node.right:\n",
    "                    queue.append(node.right)\n",
    "                if size==1:\n",
    "                    res.append(node.val)\n",
    "                size-=1\n",
    "        return res"
   ]
  },
  {
   "cell_type": "code",
   "execution_count": 20,
   "id": "c817fc1d-3713-42bb-98b8-05870989e34e",
   "metadata": {},
   "outputs": [],
   "source": [
    "sol=Solution()"
   ]
  },
  {
   "cell_type": "code",
   "execution_count": 21,
   "id": "b84343c9-4aaa-4d0d-ab74-36d5f8ddbcea",
   "metadata": {},
   "outputs": [],
   "source": [
    "root = TreeNode(3)\n",
    "root.left = TreeNode(9)\n",
    "root.right = TreeNode(20)\n",
    "root.right.left=TreeNode(15)\n",
    "root.right.right=TreeNode(7)"
   ]
  },
  {
   "cell_type": "code",
   "execution_count": 22,
   "id": "3cdb04d5-f42a-46f3-9c4e-9fa485ee551c",
   "metadata": {},
   "outputs": [
    {
     "name": "stdout",
     "output_type": "stream",
     "text": [
      "[3, 20, 7]\n"
     ]
    }
   ],
   "source": [
    "print(sol.rightSideView(root))"
   ]
  },
  {
   "cell_type": "code",
   "execution_count": null,
   "id": "2a6aba69-f215-402e-b600-1e6705fd1d88",
   "metadata": {},
   "outputs": [],
   "source": []
  }
 ],
 "metadata": {
  "kernelspec": {
   "display_name": "Python 3 (ipykernel)",
   "language": "python",
   "name": "python3"
  },
  "language_info": {
   "codemirror_mode": {
    "name": "ipython",
    "version": 3
   },
   "file_extension": ".py",
   "mimetype": "text/x-python",
   "name": "python",
   "nbconvert_exporter": "python",
   "pygments_lexer": "ipython3",
   "version": "3.11.11"
  }
 },
 "nbformat": 4,
 "nbformat_minor": 5
}
