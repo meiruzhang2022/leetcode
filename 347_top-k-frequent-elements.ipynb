{
 "cells": [
  {
   "cell_type": "code",
   "execution_count": 157,
   "id": "e699d300-8bc7-4d46-8065-a1fcf7d6ff9f",
   "metadata": {},
   "outputs": [],
   "source": [
    "import heapq\n",
    "from typing import List\n",
    "from collections import deque\n",
    "        \n",
    "class Solution:\n",
    "    def topKFrequent(self, nums: List[int], k: int) -> List[int]:\n",
    "        temp={}\n",
    "        for num in nums:\n",
    "            if num not in temp:\n",
    "                temp[num]=1\n",
    "            else:\n",
    "                temp[num]+=1\n",
    "        return heapq.nlargest(k,temp.keys(),key=temp.get)        "
   ]
  },
  {
   "cell_type": "code",
   "execution_count": 158,
   "id": "c817fc1d-3713-42bb-98b8-05870989e34e",
   "metadata": {},
   "outputs": [],
   "source": [
    "sol=Solution()"
   ]
  },
  {
   "cell_type": "code",
   "execution_count": 159,
   "id": "b84343c9-4aaa-4d0d-ab74-36d5f8ddbcea",
   "metadata": {},
   "outputs": [],
   "source": [
    "nums=[1,1,1,2,2,3]\n",
    "k=2"
   ]
  },
  {
   "cell_type": "code",
   "execution_count": 160,
   "id": "3cdb04d5-f42a-46f3-9c4e-9fa485ee551c",
   "metadata": {},
   "outputs": [
    {
     "name": "stdout",
     "output_type": "stream",
     "text": [
      "[1, 2]\n"
     ]
    }
   ],
   "source": [
    "print(sol.topKFrequent(nums,k))"
   ]
  },
  {
   "cell_type": "code",
   "execution_count": 161,
   "id": "3a53e45d-24f4-4502-bef3-7f6486a9491d",
   "metadata": {},
   "outputs": [],
   "source": [
    "from typing import List\n",
    "from collections import deque\n",
    "        \n",
    "class Solution:\n",
    "    def quick_sort(self,re_temp):\n",
    "        if len(re_temp) <= 1:\n",
    "            return re_temp\n",
    "        base=re_temp[0][1]\n",
    "        less=[]\n",
    "        equal=[]\n",
    "        greater=[]\n",
    "        for item in re_temp:\n",
    "            if item[1]<base:\n",
    "                less.append(item)\n",
    "            elif item[1]==base:\n",
    "                equal.append(item)\n",
    "            else:\n",
    "                greater.append(item)\n",
    "        re_temp=self.quick_sort(greater)+equal+self.quick_sort(less)\n",
    "        return re_temp\n",
    "                \n",
    "    def topKFrequent(self, nums: List[int], k: int) -> List[int]:\n",
    "        temp={}\n",
    "        for num in nums:\n",
    "            if num not in temp:\n",
    "                temp[num]=1\n",
    "            else:\n",
    "                temp[num]+=1\n",
    "            #print(temp)\n",
    "        re_temp=list(temp.items())\n",
    "        #print(re_temp)\n",
    "        re_temp=self.quick_sort(re_temp)\n",
    "        #print(re_temp)\n",
    "        return [item[0] for item in re_temp[:k]]"
   ]
  },
  {
   "cell_type": "code",
   "execution_count": 162,
   "id": "42844ed0-fa2c-4939-b643-17d18cedf287",
   "metadata": {},
   "outputs": [],
   "source": [
    "sol=Solution()"
   ]
  },
  {
   "cell_type": "code",
   "execution_count": null,
   "id": "7434861e-14ac-4bd9-aca0-2db53bbacbab",
   "metadata": {},
   "outputs": [],
   "source": []
  }
 ],
 "metadata": {
  "kernelspec": {
   "display_name": "Python 3 (ipykernel)",
   "language": "python",
   "name": "python3"
  },
  "language_info": {
   "codemirror_mode": {
    "name": "ipython",
    "version": 3
   },
   "file_extension": ".py",
   "mimetype": "text/x-python",
   "name": "python",
   "nbconvert_exporter": "python",
   "pygments_lexer": "ipython3",
   "version": "3.11.11"
  }
 },
 "nbformat": 4,
 "nbformat_minor": 5
}
