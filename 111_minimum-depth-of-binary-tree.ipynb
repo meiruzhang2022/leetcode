{
 "cells": [
  {
   "cell_type": "code",
   "execution_count": 63,
   "id": "e699d300-8bc7-4d46-8065-a1fcf7d6ff9f",
   "metadata": {},
   "outputs": [],
   "source": [
    "from typing import List,Optional\n",
    "from collections import deque\n",
    "class TreeNode:\n",
    "    def __init__(self, val=0, left=None, right=None):\n",
    "        self.val = val\n",
    "        self.left = left\n",
    "        self.right = right\n",
    "class Solution:\n",
    "    def minDepth(self, root: Optional[TreeNode]) -> int:\n",
    "        if root is None:\n",
    "            return 0\n",
    "        queue=deque([root])\n",
    "        depth=0\n",
    "        while queue:\n",
    "            depth+=1\n",
    "            size=len(queue)\n",
    "            for _ in range(size):\n",
    "                node=queue.popleft()\n",
    "                size-=1\n",
    "                if node.left is None and node.right is None:\n",
    "                    queue=[]\n",
    "                    break\n",
    "                if node.left:\n",
    "                    queue.append(node.left)\n",
    "                if node.right:\n",
    "                    queue.append(node.right)\n",
    "        return depth \n"
   ]
  },
  {
   "cell_type": "code",
   "execution_count": 64,
   "id": "c817fc1d-3713-42bb-98b8-05870989e34e",
   "metadata": {},
   "outputs": [],
   "source": [
    "sol=Solution()"
   ]
  },
  {
   "cell_type": "code",
   "execution_count": 65,
   "id": "b84343c9-4aaa-4d0d-ab74-36d5f8ddbcea",
   "metadata": {},
   "outputs": [],
   "source": [
    "root = TreeNode(2)\n",
    "root.left = TreeNode(None)\n",
    "root.right = TreeNode(3)\n",
    "root.right.left = TreeNode(None)\n",
    "root.right.right = TreeNode(4)\n",
    "root.right.right.left=TreeNode(None)\n",
    "root.right.right.right=TreeNode(5)\n",
    "root.right.right.right.left=TreeNode(None)\n",
    "root.right.right.right.right=TreeNode(6)"
   ]
  },
  {
   "cell_type": "code",
   "execution_count": 66,
   "id": "3cdb04d5-f42a-46f3-9c4e-9fa485ee551c",
   "metadata": {},
   "outputs": [
    {
     "name": "stdout",
     "output_type": "stream",
     "text": [
      "2\n"
     ]
    }
   ],
   "source": [
    "print(sol.minDepth(root))"
   ]
  }
 ],
 "metadata": {
  "kernelspec": {
   "display_name": "Python 3 (ipykernel)",
   "language": "python",
   "name": "python3"
  },
  "language_info": {
   "codemirror_mode": {
    "name": "ipython",
    "version": 3
   },
   "file_extension": ".py",
   "mimetype": "text/x-python",
   "name": "python",
   "nbconvert_exporter": "python",
   "pygments_lexer": "ipython3",
   "version": "3.11.11"
  }
 },
 "nbformat": 4,
 "nbformat_minor": 5
}
