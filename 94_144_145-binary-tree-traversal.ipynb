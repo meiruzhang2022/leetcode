{
 "cells": [
  {
   "cell_type": "code",
   "execution_count": 42,
   "id": "e699d300-8bc7-4d46-8065-a1fcf7d6ff9f",
   "metadata": {},
   "outputs": [],
   "source": [
    "from typing import List,Optional\n",
    "class TreeNode:\n",
    "    def __init__(self, val=0, left=None, right=None):\n",
    "        self.val = val\n",
    "        self.left = left\n",
    "        self.right = right\n",
    "class Solution:\n",
    "    def pre(self,node:Optional[TreeNode],res:List[int])->List[int]:\n",
    "        if node is None:\n",
    "            return res\n",
    "        res.append(node.val)\n",
    "        self.pre(node.left,res)\n",
    "        self.pre(node.right,res)\n",
    "        return res\n",
    "    def preorderTraversal(self, root: Optional[TreeNode]) -> List[int]:\n",
    "        res=[]\n",
    "        return self.pre(root,res)"
   ]
  },
  {
   "cell_type": "code",
   "execution_count": 43,
   "id": "c817fc1d-3713-42bb-98b8-05870989e34e",
   "metadata": {},
   "outputs": [],
   "source": [
    "sol=Solution()"
   ]
  },
  {
   "cell_type": "code",
   "execution_count": 44,
   "id": "b84343c9-4aaa-4d0d-ab74-36d5f8ddbcea",
   "metadata": {},
   "outputs": [],
   "source": [
    "root = TreeNode(1)\n",
    "root.left = TreeNode(None)\n",
    "root.right = TreeNode(2)\n",
    "root.right.left=TreeNode(3)"
   ]
  },
  {
   "cell_type": "code",
   "execution_count": 45,
   "id": "3cdb04d5-f42a-46f3-9c4e-9fa485ee551c",
   "metadata": {},
   "outputs": [
    {
     "name": "stdout",
     "output_type": "stream",
     "text": [
      "[1, None, 2, 3]\n"
     ]
    }
   ],
   "source": [
    "print(sol.preorderTraversal(root))"
   ]
  },
  {
   "cell_type": "code",
   "execution_count": 50,
   "id": "c8f3ed0a-188a-4c46-91c7-23ae507cf332",
   "metadata": {},
   "outputs": [],
   "source": [
    "class Solution:\n",
    "    def post(self,node:Optional[TreeNode],res:List[int])->List[int]:\n",
    "        if node is None:\n",
    "            return \n",
    "        self.post(node.left,res)\n",
    "        self.post(node.right,res)\n",
    "        res.append(node.val)\n",
    "        return res\n",
    "    def postorderTraversal(self, root: Optional[TreeNode]) -> List[int]:\n",
    "        res=[]\n",
    "        return self.post(root,res)"
   ]
  },
  {
   "cell_type": "code",
   "execution_count": 51,
   "id": "3e53f627-0d08-4cbb-9f5c-63cc7ee60c68",
   "metadata": {},
   "outputs": [],
   "source": [
    "sol=Solution()"
   ]
  },
  {
   "cell_type": "code",
   "execution_count": 52,
   "id": "043a2e5d-3d4e-4da4-bb60-b11694b8cc05",
   "metadata": {},
   "outputs": [],
   "source": [
    "root = TreeNode(1)\n",
    "root.left = TreeNode(None)\n",
    "root.right = TreeNode(2)\n",
    "root.right.left=TreeNode(3)"
   ]
  },
  {
   "cell_type": "code",
   "execution_count": 53,
   "id": "536ea3b8-0840-4edc-b70f-4839dfa8dd63",
   "metadata": {},
   "outputs": [
    {
     "name": "stdout",
     "output_type": "stream",
     "text": [
      "[None, 3, 2, 1]\n"
     ]
    }
   ],
   "source": [
    "print(sol.postorderTraversal(root))"
   ]
  },
  {
   "cell_type": "code",
   "execution_count": null,
   "id": "092c3b33-ead9-47f2-92f4-6e5c05056795",
   "metadata": {},
   "outputs": [],
   "source": [
    "class Solution:\n",
    "    def mid(self, node: Optional[TreeNode], res: List[int]) -> List[int]:\n",
    "        if node is None:\n",
    "            return res\n",
    "        self.mid(node.left, res)\n",
    "        res.append(node.val)\n",
    "        self.mid(node.right, res)\n",
    "        return res\n",
    "\n",
    "    def inorderTraversal(self, root: Optional[TreeNode]) -> List[int]:\n",
    "        res = []\n",
    "        return self.mid(root, res)"
   ]
  }
 ],
 "metadata": {
  "kernelspec": {
   "display_name": "Python 3 (ipykernel)",
   "language": "python",
   "name": "python3"
  },
  "language_info": {
   "codemirror_mode": {
    "name": "ipython",
    "version": 3
   },
   "file_extension": ".py",
   "mimetype": "text/x-python",
   "name": "python",
   "nbconvert_exporter": "python",
   "pygments_lexer": "ipython3",
   "version": "3.11.11"
  }
 },
 "nbformat": 4,
 "nbformat_minor": 5
}
