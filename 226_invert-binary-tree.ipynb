{
 "cells": [
  {
   "cell_type": "code",
   "execution_count": 91,
   "id": "e699d300-8bc7-4d46-8065-a1fcf7d6ff9f",
   "metadata": {},
   "outputs": [],
   "source": [
    "from typing import List,Optional\n",
    "from collections import deque\n",
    "class TreeNode:\n",
    "    def __init__(self, val=0, left=None, right=None):\n",
    "        self.val = val\n",
    "        self.left = left\n",
    "        self.right = right"
   ]
  },
  {
   "cell_type": "code",
   "execution_count": 92,
   "id": "2139bcad-4faf-42e3-a0d2-14f0a723a3ab",
   "metadata": {},
   "outputs": [],
   "source": [
    "def tree_to_list(root: Optional[TreeNode]) -> List[Optional[int]]:\n",
    "        if not root:\n",
    "            return []\n",
    "        \n",
    "        result = []\n",
    "        queue = deque([root])\n",
    "        \n",
    "        while queue:\n",
    "            level_length = len(queue)\n",
    "            has_non_null = False  # 标记当前层是否有非空节点\n",
    "            current_level = []\n",
    "            \n",
    "            for _ in range(level_length):\n",
    "                node = queue.popleft()\n",
    "                if node:\n",
    "                    current_level.append(node.val)\n",
    "                    # 将子节点加入队列（即使为空）\n",
    "                    queue.append(node.left)\n",
    "                    queue.append(node.right)\n",
    "                    if node.left or node.right:\n",
    "                        has_non_null = True\n",
    "                else:\n",
    "                    current_level.append(None)\n",
    "                    # 空节点也需要补足两个None子节点占位（如果当前层仍有非空节点）\n",
    "                    queue.append(None)\n",
    "                    queue.append(None)\n",
    "            \n",
    "            # 如果当前层全为None且后续无节点，停止遍历\n",
    "            if all(x is None for x in current_level) and not has_non_null:\n",
    "                break\n",
    "            result.extend(current_level)\n",
    "        \n",
    "        # 去除末尾连续的None（可选，根据需求调整）\n",
    "        while result and result[-1] is None:\n",
    "            result.pop()\n",
    "        \n",
    "        return result"
   ]
  },
  {
   "cell_type": "code",
   "execution_count": 85,
   "id": "f1b37726-330d-42db-b1d9-f0361b745af5",
   "metadata": {},
   "outputs": [],
   "source": [
    "#层序遍历\n",
    "class Solution:\n",
    "    def invertTree(self, root: Optional[TreeNode]) -> Optional[TreeNode]:\n",
    "        if root is None:\n",
    "            return root\n",
    "        queue = deque([root])\n",
    "        while queue:\n",
    "            size = len(queue)\n",
    "            for _ in range(size):\n",
    "                node = queue.popleft()\n",
    "                node.left, node.right = node.right, node.left\n",
    "                if node.left:\n",
    "                    queue.append(node.left)\n",
    "                if node.right:\n",
    "                    queue.append(node.right)\n",
    "        return root"
   ]
  },
  {
   "cell_type": "code",
   "execution_count": 93,
   "id": "bced02b8-fe72-4ff3-a69e-5d04c31e4839",
   "metadata": {},
   "outputs": [],
   "source": [
    "#深度优先搜索→递归法\n",
    "class Solution:\n",
    "    def invertTree(self, root: Optional[TreeNode]) -> Optional[TreeNode]:\n",
    "        if root is None:\n",
    "            return root\n",
    "        queue=deque([root])\n",
    "        root.left,root.right=root.right,root.left\n",
    "        self.invertTree(root.left)\n",
    "        self.invertTree(root.right)\n",
    "        return root"
   ]
  },
  {
   "cell_type": "code",
   "execution_count": 98,
   "id": "10b9e491-3934-44cc-a96b-05d025c852db",
   "metadata": {},
   "outputs": [],
   "source": [
    "#深度优先搜索+迭代法\n",
    "class Solution:\n",
    "    def invertTree(self, root: Optional[TreeNode]) -> Optional[TreeNode]:\n",
    "        if root is None:\n",
    "            return root\n",
    "        stack=[root]\n",
    "        while stack:\n",
    "            node=stack.pop()\n",
    "            node.left,node.right=node.right,node.left\n",
    "            if node.left:\n",
    "                stack.append(node.left)\n",
    "            if node.right:\n",
    "                stack.append(node.right)\n",
    "        return root"
   ]
  },
  {
   "cell_type": "code",
   "execution_count": 99,
   "id": "c817fc1d-3713-42bb-98b8-05870989e34e",
   "metadata": {},
   "outputs": [],
   "source": [
    "sol=Solution()"
   ]
  },
  {
   "cell_type": "code",
   "execution_count": 100,
   "id": "92f1d399-c781-4d56-999b-593798ff8b63",
   "metadata": {},
   "outputs": [],
   "source": [
    "tree=TreeNode()"
   ]
  },
  {
   "cell_type": "code",
   "execution_count": 101,
   "id": "b84343c9-4aaa-4d0d-ab74-36d5f8ddbcea",
   "metadata": {},
   "outputs": [],
   "source": [
    "root = TreeNode(2)\n",
    "root.left = TreeNode(None)\n",
    "root.right = TreeNode(3)\n",
    "root.right.left = TreeNode(None)\n",
    "root.right.right = TreeNode(4)\n",
    "root.right.right.left=TreeNode(None)\n",
    "root.right.right.right=TreeNode(5)\n",
    "root.right.right.right.left=TreeNode(None)\n",
    "root.right.right.right.right=TreeNode(6)"
   ]
  },
  {
   "cell_type": "code",
   "execution_count": 102,
   "id": "8bb9e834-0599-4e1e-a8de-f763c1696424",
   "metadata": {},
   "outputs": [
    {
     "name": "stdout",
     "output_type": "stream",
     "text": [
      "[2, 3, None, 4, None, None, None, 5, None, None, None, None, None, None, None, 6]\n"
     ]
    }
   ],
   "source": [
    "print(tree_to_list(sol.invertTree(root)))"
   ]
  },
  {
   "cell_type": "code",
   "execution_count": null,
   "id": "d73aa094-b5cd-4633-866f-0d359733818d",
   "metadata": {},
   "outputs": [],
   "source": []
  }
 ],
 "metadata": {
  "kernelspec": {
   "display_name": "Python 3 (ipykernel)",
   "language": "python",
   "name": "python3"
  },
  "language_info": {
   "codemirror_mode": {
    "name": "ipython",
    "version": 3
   },
   "file_extension": ".py",
   "mimetype": "text/x-python",
   "name": "python",
   "nbconvert_exporter": "python",
   "pygments_lexer": "ipython3",
   "version": "3.11.11"
  }
 },
 "nbformat": 4,
 "nbformat_minor": 5
}
